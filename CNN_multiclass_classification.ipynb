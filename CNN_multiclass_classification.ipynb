{
  "nbformat": 4,
  "nbformat_minor": 0,
  "metadata": {
    "colab": {
      "name": "Project_2_A20424327.ipynb",
      "provenance": [],
      "collapsed_sections": [],
      "include_colab_link": true
    },
    "kernelspec": {
      "name": "python3",
      "display_name": "Python 3"
    },
    "accelerator": "GPU"
  },
  "cells": [
    {
      "cell_type": "markdown",
      "metadata": {
        "id": "view-in-github",
        "colab_type": "text"
      },
      "source": [
        "<a href=\"https://colab.research.google.com/github/pranatitrivedi8/Design-train-and-test-a-CNN-multi-class-classification-problem/blob/master/CNN_multiclass_classification.ipynb\" target=\"_parent\"><img src=\"https://colab.research.google.com/assets/colab-badge.svg\" alt=\"Open In Colab\"/></a>"
      ]
    },
    {
      "cell_type": "markdown",
      "metadata": {
        "id": "MV4osAJhnrTv",
        "colab_type": "text"
      },
      "source": [
        "## Definitions"
      ]
    },
    {
      "cell_type": "code",
      "metadata": {
        "id": "6Gqh8kPlgiFJ",
        "colab_type": "code",
        "outputId": "877bd449-88d2-4164-f604-74d4beacac95",
        "colab": {
          "base_uri": "https://localhost:8080/",
          "height": 185
        }
      },
      "source": [
        "%matplotlib inline\n",
        "import os\n",
        "import numpy as np\n",
        "import pickle\n",
        "import matplotlib.pyplot as plt\n",
        "from keras.utils import to_categorical\n",
        "from keras.callbacks import ReduceLROnPlateau, ModelCheckpoint, EarlyStopping\n",
        "from keras.optimizers import Adadelta, Adam, SGD\n",
        "from keras.layers import Input, Conv2D, Dense, MaxPooling2D, Dropout, Flatten, AveragePooling2D, Conv2DTranspose, UpSampling2D,BatchNormalization\n",
        "from keras.models import Sequential\n",
        "from keras.losses import categorical_crossentropy\n",
        "\n",
        "from google.colab import drive\n",
        "drive.mount(\"/content/gdrive\", force_remount=True)\n",
        "os.chdir(\"/content/gdrive/My Drive/Colab Notebooks\") # might have to change path to point to your Colab Notebooks folder"
      ],
      "execution_count": 0,
      "outputs": [
        {
          "output_type": "stream",
          "text": [
            "Using TensorFlow backend.\n"
          ],
          "name": "stderr"
        },
        {
          "output_type": "display_data",
          "data": {
            "text/html": [
              "<p style=\"color: red;\">\n",
              "The default version of TensorFlow in Colab will soon switch to TensorFlow 2.x.<br>\n",
              "We recommend you <a href=\"https://www.tensorflow.org/guide/migrate\" target=\"_blank\">upgrade</a> now \n",
              "or ensure your notebook will continue to use TensorFlow 1.x via the <code>%tensorflow_version 1.x</code> magic:\n",
              "<a href=\"https://colab.research.google.com/notebooks/tensorflow_version.ipynb\" target=\"_blank\">more info</a>.</p>\n"
            ],
            "text/plain": [
              "<IPython.core.display.HTML object>"
            ]
          },
          "metadata": {
            "tags": []
          }
        },
        {
          "output_type": "stream",
          "text": [
            "Go to this URL in a browser: https://accounts.google.com/o/oauth2/auth?client_id=947318989803-6bn6qk8qdgf4n4g3pfee6491hc0brc4i.apps.googleusercontent.com&redirect_uri=urn%3aietf%3awg%3aoauth%3a2.0%3aoob&response_type=code&scope=email%20https%3a%2f%2fwww.googleapis.com%2fauth%2fdocs.test%20https%3a%2f%2fwww.googleapis.com%2fauth%2fdrive%20https%3a%2f%2fwww.googleapis.com%2fauth%2fdrive.photos.readonly%20https%3a%2f%2fwww.googleapis.com%2fauth%2fpeopleapi.readonly\n",
            "\n",
            "Enter your authorization code:\n",
            "··········\n",
            "Mounted at /content/gdrive\n"
          ],
          "name": "stdout"
        }
      ]
    },
    {
      "cell_type": "markdown",
      "metadata": {
        "id": "-eJJXcB1n2kn",
        "colab_type": "text"
      },
      "source": [
        "## Load and format data"
      ]
    },
    {
      "cell_type": "code",
      "metadata": {
        "id": "FgjqOlNDE3tJ",
        "colab_type": "code",
        "outputId": "1d6d1c6c-3576-44e2-d328-8009c44f2353",
        "colab": {
          "base_uri": "https://localhost:8080/",
          "height": 384
        }
      },
      "source": [
        "data = np.load('./MNIST_CorrNoise.npz')\n",
        "\n",
        "x_train = data['x_train']\n",
        "y_train = data['y_train']\n",
        "\n",
        "num_cls = len(np.unique(y_train))\n",
        "print('Number of classes: ' + str(num_cls))\n",
        "\n",
        "print('Example of handwritten digit with correlated noise: \\n')\n",
        "\n",
        "k = 3000\n",
        "plt.imshow(np.squeeze(x_train[k,:,:]))\n",
        "plt.show()\n",
        "print('Class: '+str(y_train[k])+'\\n')\n",
        "\n",
        "# RESHAPE and standarize\n",
        "x_train = np.expand_dims(x_train/255,axis=3)\n",
        "\n",
        "# convert class vectors to binary class matrices\n",
        "y_train = to_categorical(y_train, num_cls)\n",
        "\n",
        "print('Shape of x_train: '+str(x_train.shape))\n",
        "print('Shape of y_train: '+str(y_train.shape))"
      ],
      "execution_count": 0,
      "outputs": [
        {
          "output_type": "stream",
          "text": [
            "Number of classes: 10\n",
            "Example of handwritten digit with correlated noise: \n",
            "\n"
          ],
          "name": "stdout"
        },
        {
          "output_type": "display_data",
          "data": {
            "image/png": "[encoded data removed]",
            "text/plain": [
              "<Figure size 432x288 with 1 Axes>"
            ]
          },
          "metadata": {
            "tags": []
          }
        },
        {
          "output_type": "stream",
          "text": [
            "Class: 9\n",
            "\n",
            "Shape of x_train: (60000, 28, 28, 1)\n",
            "Shape of y_train: (60000, 10)\n"
          ],
          "name": "stdout"
        }
      ]
    },
    {
      "cell_type": "markdown",
      "metadata": {
        "id": "YFPhNWgloVIh",
        "colab_type": "text"
      },
      "source": [
        "## Training"
      ]
    },
    {
      "cell_type": "code",
      "metadata": {
        "id": "sAE8wRG_pypQ",
        "colab_type": "code",
        "colab": {}
      },
      "source": [
        "model_name='CNN' # To compare models, you can give them different names\n",
        "\n",
        "pweight='./weights/weights_' + model_name  + '.hdf5'\n",
        "\n",
        "if not os.path.exists('./weights'):\n",
        "  os.mkdir('./weights')\n",
        "\n",
        "## EXPLORE VALUES AND FIND A GOOD SET\n",
        "b_size = 7 # batch size\n",
        "val_split = 0.1 # percentage of samples used for validation (e.g. 0.5)\n",
        "ep = 22 # number of epochs"
      ],
      "execution_count": 0,
      "outputs": []
    },
    {
      "cell_type": "code",
      "metadata": {
        "id": "p2Ii3Irf3F0R",
        "colab_type": "code",
        "outputId": "6a8ed11b-30f2-464b-9ac7-ca29aa072822",
        "colab": {
          "base_uri": "https://localhost:8080/",
          "height": 1190
        }
      },
      "source": [
        "input_shape = x_train.shape[1:4] #(28,28,1)\n",
        "\n",
        "model= Sequential()\n",
        "\n",
        "model.add(Conv2D(32,kernel_size=3,activation='relu',input_shape=(28,28,1)))\n",
        "model.add(BatchNormalization())\n",
        "model.add(Conv2D(32,kernel_size=3,activation='relu'))\n",
        "model.add(BatchNormalization())\n",
        "model.add(Conv2D(32,kernel_size=5,strides=2,padding='same',activation='relu'))\n",
        "model.add(BatchNormalization())\n",
        "model.add(Dropout(0.4))\n",
        "\n",
        "model.add(Conv2D(64,kernel_size=3,activation='relu'))\n",
        "model.add(BatchNormalization())\n",
        "model.add(Conv2D(64,kernel_size=3,activation='relu'))\n",
        "model.add(BatchNormalization())\n",
        "model.add(Conv2D(64,kernel_size=5,strides=2,padding='same',activation='relu'))\n",
        "model.add(BatchNormalization())\n",
        "model.add(Dropout(0.4))\n",
        "\n",
        "model.add(Flatten())\n",
        "model.add(Dense(128, activation='relu'))\n",
        "model.add(BatchNormalization())\n",
        "model.add(Dropout(0.4))\n",
        "model.add(Dense(10, activation='softmax'))\n",
        "\n",
        "model.compile(optimizer=\"adam\", loss=\"categorical_crossentropy\", metrics=[\"accuracy\"])\n",
        "model.summary()\n",
        "reduce_lr = ReduceLROnPlateau(monitor='val_loss', factor=0.2,\n",
        "                              patience=5, min_lr=0.001)\n",
        "callbacks_list = [reduce_lr]\n",
        "\n",
        "history=model.fit(x_train, y_train,\n",
        "                        epochs=ep,\n",
        "                        batch_size=b_size,\n",
        "                        #verbose=0,\n",
        "                        verbose=1,\n",
        "                        shuffle=True,\n",
        "                        validation_split = val_split,\n",
        "                        callbacks= callbacks_list)\n",
        "\n",
        "print('CNN weights saved in ' + pweight)\n",
        "\n",
        "# Plot loss vs epochs\n",
        "plt.plot(history.history['loss'])\n",
        "plt.plot(history.history['val_loss'])\n",
        "plt.title('model loss')\n",
        "plt.ylabel('loss')\n",
        "plt.xlabel('epoch')\n",
        "plt.legend(['train', 'val'], loc='upper right')\n",
        "plt.show()\n",
        "\n",
        "# Plot accuracy vs epochs\n",
        "plt.plot(history.history['acc'])\n",
        "plt.plot(history.history['val_acc'])\n",
        "plt.title('model accuracy')\n",
        "plt.ylabel('accuracy')\n",
        "plt.xlabel('epoch')\n",
        "plt.legend(['train', 'val'], loc='upper left')\n",
        "plt.show()"
      ],
      "execution_count": 0,
      "outputs": [
        {
          "output_type": "stream",
          "text": [
            "Model: \"sequential_3\"\n",
            "_________________________________________________________________\n",
            "Layer (type)                 Output Shape              Param #   \n",
            "=================================================================\n",
            "conv2d_13 (Conv2D)           (None, 26, 26, 32)        320       \n",
            "_________________________________________________________________\n",
            "batch_normalization_15 (Batc (None, 26, 26, 32)        128       \n",
            "_________________________________________________________________\n",
            "conv2d_14 (Conv2D)           (None, 24, 24, 32)        9248      \n",
            "_________________________________________________________________\n",
            "batch_normalization_16 (Batc (None, 24, 24, 32)        128       \n",
            "_________________________________________________________________\n",
            "conv2d_15 (Conv2D)           (None, 12, 12, 32)        25632     \n",
            "_________________________________________________________________\n",
            "batch_normalization_17 (Batc (None, 12, 12, 32)        128       \n",
            "_________________________________________________________________\n",
            "dropout_7 (Dropout)          (None, 12, 12, 32)        0         \n",
            "_________________________________________________________________\n",
            "conv2d_16 (Conv2D)           (None, 10, 10, 64)        18496     \n",
            "_________________________________________________________________\n",
            "batch_normalization_18 (Batc (None, 10, 10, 64)        256       \n",
            "_________________________________________________________________\n",
            "conv2d_17 (Conv2D)           (None, 8, 8, 64)          36928     \n",
            "_________________________________________________________________\n",
            "batch_normalization_19 (Batc (None, 8, 8, 64)          256       \n",
            "_________________________________________________________________\n",
            "conv2d_18 (Conv2D)           (None, 4, 4, 64)          102464    \n",
            "_________________________________________________________________\n",
            "batch_normalization_20 (Batc (None, 4, 4, 64)          256       \n",
            "_________________________________________________________________\n",
            "dropout_8 (Dropout)          (None, 4, 4, 64)          0         \n",
            "_________________________________________________________________\n",
            "flatten_3 (Flatten)          (None, 1024)              0         \n",
            "_________________________________________________________________\n",
            "dense_5 (Dense)              (None, 128)               131200    \n",
            "_________________________________________________________________\n",
            "batch_normalization_21 (Batc (None, 128)               512       \n",
            "_________________________________________________________________\n",
            "dropout_9 (Dropout)          (None, 128)               0         \n",
            "_________________________________________________________________\n",
            "dense_6 (Dense)              (None, 10)                1290      \n",
            "=================================================================\n",
            "Total params: 327,242\n",
            "Trainable params: 326,410\n",
            "Non-trainable params: 832\n",
            "_________________________________________________________________\n",
            "Train on 54000 samples, validate on 6000 samples\n",
            "Epoch 1/22\n",
            "54000/54000 [==============================] - 156s 3ms/step - loss: 1.0339 - acc: 0.6648 - val_loss: 0.3110 - val_acc: 0.9007\n",
            "Epoch 2/22\n",
            "54000/54000 [==============================] - 154s 3ms/step - loss: 0.5549 - acc: 0.8246 - val_loss: 0.2509 - val_acc: 0.9202\n",
            "Epoch 3/22\n",
            "54000/54000 [==============================] - 154s 3ms/step - loss: 0.4628 - acc: 0.8549 - val_loss: 0.2335 - val_acc: 0.9253\n",
            "Epoch 4/22\n",
            "54000/54000 [==============================] - 155s 3ms/step - loss: 0.4104 - acc: 0.8728 - val_loss: 0.2157 - val_acc: 0.9320\n",
            "Epoch 5/22\n",
            "54000/54000 [==============================] - 153s 3ms/step - loss: 0.3751 - acc: 0.8843 - val_loss: 0.1916 - val_acc: 0.9353\n",
            "Epoch 6/22\n",
            "54000/54000 [==============================] - 153s 3ms/step - loss: 0.3505 - acc: 0.8922 - val_loss: 0.1883 - val_acc: 0.9392\n",
            "Epoch 7/22\n",
            "54000/54000 [==============================] - 152s 3ms/step - loss: 0.3340 - acc: 0.8973 - val_loss: 0.1810 - val_acc: 0.9407\n",
            "Epoch 8/22\n",
            "54000/54000 [==============================] - 153s 3ms/step - loss: 0.3196 - acc: 0.9003 - val_loss: 0.1797 - val_acc: 0.9368\n",
            "Epoch 9/22\n",
            "54000/54000 [==============================] - 154s 3ms/step - loss: 0.3050 - acc: 0.9057 - val_loss: 0.1759 - val_acc: 0.9405\n",
            "Epoch 10/22\n",
            "54000/54000 [==============================] - 150s 3ms/step - loss: 0.3004 - acc: 0.9082 - val_loss: 0.1577 - val_acc: 0.9485\n",
            "Epoch 11/22\n",
            "54000/54000 [==============================] - 150s 3ms/step - loss: 0.2860 - acc: 0.9113 - val_loss: 0.1537 - val_acc: 0.9487\n",
            "Epoch 12/22\n",
            "54000/54000 [==============================] - 150s 3ms/step - loss: 0.2826 - acc: 0.9125 - val_loss: 0.1656 - val_acc: 0.9427\n",
            "Epoch 13/22\n",
            "54000/54000 [==============================] - 150s 3ms/step - loss: 0.2684 - acc: 0.9164 - val_loss: 0.1574 - val_acc: 0.9463\n",
            "Epoch 14/22\n",
            "54000/54000 [==============================] - 148s 3ms/step - loss: 0.2624 - acc: 0.9186 - val_loss: 0.1792 - val_acc: 0.9413\n",
            "Epoch 15/22\n",
            "54000/54000 [==============================] - 148s 3ms/step - loss: 0.2561 - acc: 0.9203 - val_loss: 0.1545 - val_acc: 0.9497\n",
            "Epoch 16/22\n",
            "54000/54000 [==============================] - 147s 3ms/step - loss: 0.2516 - acc: 0.9213 - val_loss: 0.1534 - val_acc: 0.9468\n",
            "Epoch 17/22\n",
            "54000/54000 [==============================] - 149s 3ms/step - loss: 0.2431 - acc: 0.9247 - val_loss: 0.1483 - val_acc: 0.9508\n",
            "Epoch 18/22\n",
            "54000/54000 [==============================] - 149s 3ms/step - loss: 0.2398 - acc: 0.9258 - val_loss: 0.1482 - val_acc: 0.9507\n",
            "Epoch 19/22\n",
            "54000/54000 [==============================] - 149s 3ms/step - loss: 0.2339 - acc: 0.9273 - val_loss: 0.1462 - val_acc: 0.9523\n",
            "Epoch 20/22\n",
            "54000/54000 [==============================] - 149s 3ms/step - loss: 0.2365 - acc: 0.9278 - val_loss: 0.1458 - val_acc: 0.9528\n",
            "Epoch 21/22\n",
            "54000/54000 [==============================] - 150s 3ms/step - loss: 0.2269 - acc: 0.9298 - val_loss: 0.1483 - val_acc: 0.9517\n",
            "Epoch 22/22\n",
            "54000/54000 [==============================] - 148s 3ms/step - loss: 0.2221 - acc: 0.9312 - val_loss: 0.1458 - val_acc: 0.9512\n",
            "CNN weights saved in ./weights/weights_CNN.hdf5\n"
          ],
          "name": "stdout"
        },
        {
          "output_type": "display_data",
          "data": {
            "image/png": "[encoded data removed]",
            "text/plain": [
              "<Figure size 432x288 with 1 Axes>"
            ]
          },
          "metadata": {
            "tags": []
          }
        },
        {
          "output_type": "display_data",
          "data": {
            "image/png": "[encoded data removed]",
            "text/plain": [
              "<Figure size 432x288 with 1 Axes>"
            ]
          },
          "metadata": {
            "tags": []
          }
        }
      ]
    },
    {
      "cell_type": "markdown",
      "metadata": {
        "id": "XK3dbqKloipP",
        "colab_type": "text"
      },
      "source": [
        "## Make predictions in test set"
      ]
    },
    {
      "cell_type": "code",
      "metadata": {
        "id": "OPLSp4PppXE1",
        "colab_type": "code",
        "outputId": "1011544c-dc02-414b-96f5-149bec6f9191",
        "colab": {
          "base_uri": "https://localhost:8080/",
          "height": 85
        }
      },
      "source": [
        "from keras.models import load_model\n",
        "\n",
        "## LOAD DATA\n",
        "data = np.load('./MNIST_CorrNoise.npz')\n",
        "\n",
        "x_test = data['x_test']\n",
        "y_test = data['y_test']\n",
        "\n",
        "num_cls = len(np.unique(y_test))\n",
        "print('Number of classes: ' + str(num_cls))\n",
        "\n",
        "# RESHAPE and standarize\n",
        "x_test = np.expand_dims(x_test/255,axis=3)\n",
        "\n",
        "print('Shape of x_train: '+str(x_test.shape)+'\\n')\n",
        "\n",
        "## Define model parameters\n",
        "model_name='CNN' # To compare models, you can give them different names\n",
        "pweight='./weights/weights_' + model_name  + '.hdf5'\n",
        "\n",
        "model = load_model(pweight)\n",
        "y_pred = model.predict_classes(x_test)\n",
        "\n",
        "Acc_pred = sum(y_pred == y_test)/len(y_test)\n",
        "\n",
        "print('Accuracy in test set is: '+str(Acc_pred))\n"
      ],
      "execution_count": 0,
      "outputs": [
        {
          "output_type": "stream",
          "text": [
            "Number of classes: 10\n",
            "Shape of x_train: (10000, 28, 28, 1)\n",
            "\n",
            "Accuracy in test set is: 0.8721\n"
          ],
          "name": "stdout"
        }
      ]
    },
    {
      "cell_type": "code",
      "metadata": {
        "id": "ApaXy0TLitF1",
        "colab_type": "code",
        "colab": {}
      },
      "source": [
        ""
      ],
      "execution_count": 0,
      "outputs": []
    }
  ]
}